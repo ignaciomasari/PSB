{
  "nbformat": 4,
  "nbformat_minor": 0,
  "metadata": {
    "accelerator": "GPU",
    "colab": {
      "name": "Biomass_EfficientNet_MixedInput2.ipynb",
      "provenance": [],
      "collapsed_sections": [],
      "include_colab_link": true
    },
    "kernelspec": {
      "display_name": "Python 3",
      "name": "python3"
    }
  },
  "cells": [
    {
      "cell_type": "markdown",
      "metadata": {
        "id": "view-in-github",
        "colab_type": "text"
      },
      "source": [
        "<a href=\"https://colab.research.google.com/github/ignaciomasari/PSB/blob/main/Biomass_EfficientNet_MixedInput2.ipynb\" target=\"_parent\"><img src=\"https://colab.research.google.com/assets/colab-badge.svg\" alt=\"Open In Colab\"/></a>"
      ]
    },
    {
      "cell_type": "code",
      "metadata": {
        "id": "JS1bj5QgTUK9"
      },
      "source": [
        "import cv2\n",
        "import os\n",
        "import csv\n",
        "import numpy as np\n",
        "from sklearn.model_selection import train_test_split\n",
        "from sklearn.preprocessing import MinMaxScaler\n",
        "\n",
        "#!git clone https://github.com/ignaciomasari/PSB\n",
        "#import sys\n",
        "#sys.path.append('/content/PSB')\n",
        "#from mylib import *\n",
        "\n",
        "import os \n",
        "import zipfile \n",
        "#!pip install tensorflow==2.1.0\n",
        "#!pip install keras==2.3.1\n",
        "import tensorflow as tf \n",
        "import tensorflow.keras\n",
        "from tensorflow.keras import layers \n",
        "from tensorflow.keras import Model \n",
        "from tensorflow.keras.optimizers import Adam\n",
        "import matplotlib.pyplot as plt\n",
        "import keras\n"
      ],
      "execution_count": 1,
      "outputs": []
    },
    {
      "cell_type": "code",
      "metadata": {
        "id": "mc5EJL1clDbg"
      },
      "source": [
        "#!pip install efficientnet"
      ],
      "execution_count": 2,
      "outputs": []
    },
    {
      "cell_type": "code",
      "metadata": {
        "id": "aeawAI4IC6hI"
      },
      "source": [
        "from google.colab import drive\n",
        "def load_images_from_folder(folder,h,w):\n",
        "    images = []\n",
        "    names = []\n",
        "    for filename in os.listdir(folder):\n",
        "        img = cv2.imread(os.path.join(folder,filename))\n",
        "        if img is not None:\n",
        "            images.append(cv2.resize(img,(h,w)))\n",
        "            #images.append(img)\n",
        "            pos = filename.find(\".\")\n",
        "            names.append(int(filename[:pos]))\n",
        "    return [names,images]\n",
        "\t\n",
        "def mount_data(folder,h,w):\n",
        "  drive.mount('/content/drive')\n",
        "\n",
        "  #folder2 = folder + '/concat3bis'\n",
        "  folder2 = folder + '/S0'\n",
        "  images = load_images_from_folder(folder2,h,w)\n",
        "\n",
        "  harvest_dict = {}\n",
        "  with open(folder + \"/harvest.txt\") as tsv:\n",
        "      for line in csv.reader(tsv, delimiter=\"\\t\"):\n",
        "          if line[0] =='pot':\n",
        "              continue\n",
        "          harvest_dict[int(line[0])] = [float(str.replace(line[5],',','.')) , int(line[14])]  \n",
        "        \n",
        "  stem_dict = {}\n",
        "  with open(folder + \"/stem.txt\") as tsv:\n",
        "      for line in csv.reader(tsv, delimiter=\"\\t\"):\n",
        "          if line[0] =='Pot':\n",
        "              continue\n",
        "          stem_dict[int(line[0])] = [int(line[1]),int(line[2])]                  \n",
        "\n",
        "  \n",
        "  VNIR_dict = {}\n",
        "  with open(folder + \"/VNIR.txt\") as tsv:\n",
        "      for line in csv.reader(tsv, delimiter=\"\\t\"):\n",
        "          if line[0] =='Pot':\n",
        "              continue\n",
        "          pot = int(line[0])\n",
        "          VNIR_dict[pot] = []\n",
        "          for i in range(1,len(line) - 1):              \n",
        "              VNIR_dict[pot].append(float(line[i]))\n",
        "\n",
        "  FW = []\n",
        "  meta_data = []   \n",
        "  data = [images[1],meta_data,FW]\n",
        "\n",
        "  for p in images[0]:\n",
        "      if p in harvest_dict.keys():\n",
        "          FW.append(harvest_dict[p][0])\n",
        "          meta_data.append([harvest_dict[p][1]])#,stem_dict[p][0],stem_dict[p][1]])\n",
        "          #meta_data[-1].extend(VNIR_dict[p])\n",
        "\n",
        "  return data  \n",
        "\n",
        "def Divide_in_classes(Y_orig,Y_orig2, interval):\n",
        "\n",
        "  classes = math.ceil(max([max(Y_orig),max(Y_orig2)])/interval)\n",
        "  n = Y_orig.shape[0]\n",
        "  Y_cl = np.zeros([n,classes])\n",
        "  for y in range(n):\n",
        "    Y_cl[y,math.floor(Y_orig[y] / interval)] = 1\n",
        "\n",
        "  n = Y_orig2.shape[0]\n",
        "  Y_cl2 = np.zeros([n,classes])\n",
        "  for y in range(n):\n",
        "    Y_cl2[y,math.floor(Y_orig2[y] / interval)] = 1\n",
        "\n",
        "  return Y_cl,Y_cl2,classes"
      ],
      "execution_count": 3,
      "outputs": []
    },
    {
      "cell_type": "code",
      "metadata": {
        "id": "tDu6oJxbLGGY"
      },
      "source": [
        "#PARAMETERS\n",
        "dropout = 0.25\n",
        "last_layer = 4\n",
        "last_layer2 = 4\n",
        "trainable_layers = 150\n",
        "lr0 = 5e-4\n",
        "size = 224\n",
        "dense = 1024\n",
        "\n",
        "#import efficientnet.keras as efn"
      ],
      "execution_count": 4,
      "outputs": []
    },
    {
      "cell_type": "code",
      "metadata": {
        "colab": {
          "base_uri": "https://localhost:8080/"
        },
        "id": "5fRnrVG0edda",
        "outputId": "3f3d7794-bd53-44ca-9575-3b64921b67a7"
      },
      "source": [
        "data = mount_data(\"/content/drive/My Drive/PSB/Biomass-phenovision\",size,size*1)\n",
        "\n",
        "X = np.array(data[0][:][:])\n",
        "X2 = np.array(data[1][:][:])\n",
        "Y = np.array(data[2][:][:])\n",
        "\n",
        "\n",
        "X_train_orig, X_test_orig, X2_train_orig, X2_test_orig, Y_train_orig, Y_test_orig = train_test_split(X, X2, Y, test_size = 0.2, random_state = 0)"
      ],
      "execution_count": 5,
      "outputs": [
        {
          "output_type": "stream",
          "text": [
            "Mounted at /content/drive\n"
          ],
          "name": "stdout"
        }
      ]
    },
    {
      "cell_type": "code",
      "metadata": {
        "colab": {
          "base_uri": "https://localhost:8080/"
        },
        "id": "RXodpqkHeu-c",
        "outputId": "d4ead399-ede3-4eaf-ce55-4d1afaae2413"
      },
      "source": [
        "# Normalize image vectors\n",
        "X_train = X_train_orig/255.\n",
        "X_test = X_test_orig/255.\n",
        "\n",
        "# Reshape & normalize\n",
        "cs = MinMaxScaler()\n",
        "X2_train = cs.fit_transform(np.reshape(X2_train_orig.T,[X2_train_orig.shape[0],X2_train_orig.shape[1]]))\n",
        "X2_test = cs.transform(np.reshape(X2_test_orig.T,[X2_test_orig.shape[0],X2_test_orig.shape[1]]))\n",
        "Y_train = np.reshape(Y_train_orig.T,[Y_train_orig.shape[0],1])\n",
        "Y_test = np.reshape(Y_test_orig.T,[Y_test_orig.shape[0],1])\n",
        "\n",
        "print (\"number of training examples = \" + str(X_train.shape[0]))\n",
        "print (\"number of test examples = \" + str(X_test.shape[0]))\n",
        "print (\"X_train shape: \" + str(X_train.shape))\n",
        "print (\"X2_train shape: \" + str(X2_train.shape))\n",
        "print (\"Y_train shape: \" + str(Y_train.shape))\n",
        "print (\"X_test shape: \" + str(X_test.shape))\n",
        "print (\"X2_test shape: \" + str(X2_test.shape))\n",
        "print (\"Y_test shape: \" + str(Y_test.shape))"
      ],
      "execution_count": 6,
      "outputs": [
        {
          "output_type": "stream",
          "text": [
            "number of training examples = 140\n",
            "number of test examples = 36\n",
            "X_train shape: (140, 224, 224, 3)\n",
            "X2_train shape: (140, 1)\n",
            "Y_train shape: (140, 1)\n",
            "X_test shape: (36, 224, 224, 3)\n",
            "X2_test shape: (36, 1)\n",
            "Y_test shape: (36, 1)\n"
          ],
          "name": "stdout"
        }
      ]
    },
    {
      "cell_type": "code",
      "metadata": {
        "id": "R22HQXuHRuxs"
      },
      "source": [
        "#print (\"number of training examples = \" + str(X_train.shape[0]))\n",
        "#print (\"number of test examples = \" + str(X_test.shape[0]))\n",
        "#print (\"X_train shape: \" + str(X_train.shape))\n",
        "#print (\"Y_train shape: \" + str(Y_train.shape))\n",
        "#print (\"X_test shape: \" + str(X_test.shape))\n",
        "#print (\"Y_test shape: \" + str(Y_test.shape))"
      ],
      "execution_count": 7,
      "outputs": []
    },
    {
      "cell_type": "code",
      "metadata": {
        "colab": {
          "base_uri": "https://localhost:8080/"
        },
        "id": "VmohR6h6sWwn",
        "outputId": "91a079f9-2c51-4745-bd0a-1ea870ad50fa"
      },
      "source": [
        "size = 224\n",
        "from keras.models import model_from_json\n",
        "import os\n",
        "#from tensorflow.keras.applications import EfficientNetB0\n",
        "from tensorflow.keras.applications import VGG19\n",
        "base_model = VGG19(input_shape = (size * 1, size, 3), include_top = False, weights = 'imagenet')\n"
      ],
      "execution_count": 8,
      "outputs": [
        {
          "output_type": "stream",
          "text": [
            "Downloading data from https://storage.googleapis.com/tensorflow/keras-applications/vgg19/vgg19_weights_tf_dim_ordering_tf_kernels_notop.h5\n",
            "80142336/80134624 [==============================] - 3s 0us/step\n"
          ],
          "name": "stdout"
        }
      ]
    },
    {
      "cell_type": "code",
      "metadata": {
        "id": "Ui3KshUvI86y"
      },
      "source": [
        "from tensorflow.keras.models import Sequential\n",
        "from tensorflow.python.keras.layers import Dense, Flatten, Dropout\n",
        "def create_mlp(dim):\n",
        "\t# define our MLP network\n",
        "\tmodel = Sequential()\n",
        "\tmodel.add(Dense(1, input_dim=dim, activation=\"relu\"))\n",
        "\tmodel.add(Dense(last_layer, activation=\"relu\"))\n",
        "\t\n",
        "\t# return our model\n",
        "\treturn model\n",
        "\n",
        "mlp = create_mlp(X2_train.shape[1])"
      ],
      "execution_count": 9,
      "outputs": []
    },
    {
      "cell_type": "code",
      "metadata": {
        "id": "vdakHHbiI_yG",
        "colab": {
          "base_uri": "https://localhost:8080/"
        },
        "outputId": "b928e550-3563-47cf-e3b1-d6a98f9dbab5"
      },
      "source": [
        "mlp.summary()"
      ],
      "execution_count": 10,
      "outputs": [
        {
          "output_type": "stream",
          "text": [
            "Model: \"sequential\"\n",
            "_________________________________________________________________\n",
            "Layer (type)                 Output Shape              Param #   \n",
            "=================================================================\n",
            "dense (Dense)                (None, 1)                 2         \n",
            "_________________________________________________________________\n",
            "dense_1 (Dense)              (None, 4)                 8         \n",
            "=================================================================\n",
            "Total params: 10\n",
            "Trainable params: 10\n",
            "Non-trainable params: 0\n",
            "_________________________________________________________________\n"
          ],
          "name": "stdout"
        }
      ]
    },
    {
      "cell_type": "code",
      "metadata": {
        "id": "V-Vp66OUiDcg"
      },
      "source": [
        "for layer in base_model.layers:\n",
        "    layer.trainable = False"
      ],
      "execution_count": 25,
      "outputs": []
    },
    {
      "cell_type": "code",
      "metadata": {
        "id": "ofm9Z2wtJg6X",
        "colab": {
          "base_uri": "https://localhost:8080/"
        },
        "outputId": "f48826be-1ea5-40cc-ea50-6fdd649637f1"
      },
      "source": [
        "from tensorflow.python.keras.layers import Dense, Flatten, Dropout\n",
        "\n",
        "x = base_model.output\n",
        "x = Flatten()(x)\n",
        "x = Dense(dense, activation=\"relu\")(x)\n",
        "x = Dropout(dropout)(x)\n",
        "#predictions = Dense(last_layer, activation=\"relu\")(x)\n",
        "predictions = Dense(1, activation=\"linear\")(x)\n",
        "cnn_model = tf.keras.models.Model(base_model.input,predictions)\n",
        "cnn_model.summary()"
      ],
      "execution_count": 26,
      "outputs": [
        {
          "output_type": "stream",
          "text": [
            "Model: \"model_3\"\n",
            "_________________________________________________________________\n",
            "Layer (type)                 Output Shape              Param #   \n",
            "=================================================================\n",
            "input_1 (InputLayer)         [(None, 224, 224, 3)]     0         \n",
            "_________________________________________________________________\n",
            "block1_conv1 (Conv2D)        (None, 224, 224, 64)      1792      \n",
            "_________________________________________________________________\n",
            "block1_conv2 (Conv2D)        (None, 224, 224, 64)      36928     \n",
            "_________________________________________________________________\n",
            "block1_pool (MaxPooling2D)   (None, 112, 112, 64)      0         \n",
            "_________________________________________________________________\n",
            "block2_conv1 (Conv2D)        (None, 112, 112, 128)     73856     \n",
            "_________________________________________________________________\n",
            "block2_conv2 (Conv2D)        (None, 112, 112, 128)     147584    \n",
            "_________________________________________________________________\n",
            "block2_pool (MaxPooling2D)   (None, 56, 56, 128)       0         \n",
            "_________________________________________________________________\n",
            "block3_conv1 (Conv2D)        (None, 56, 56, 256)       295168    \n",
            "_________________________________________________________________\n",
            "block3_conv2 (Conv2D)        (None, 56, 56, 256)       590080    \n",
            "_________________________________________________________________\n",
            "block3_conv3 (Conv2D)        (None, 56, 56, 256)       590080    \n",
            "_________________________________________________________________\n",
            "block3_conv4 (Conv2D)        (None, 56, 56, 256)       590080    \n",
            "_________________________________________________________________\n",
            "block3_pool (MaxPooling2D)   (None, 28, 28, 256)       0         \n",
            "_________________________________________________________________\n",
            "block4_conv1 (Conv2D)        (None, 28, 28, 512)       1180160   \n",
            "_________________________________________________________________\n",
            "block4_conv2 (Conv2D)        (None, 28, 28, 512)       2359808   \n",
            "_________________________________________________________________\n",
            "block4_conv3 (Conv2D)        (None, 28, 28, 512)       2359808   \n",
            "_________________________________________________________________\n",
            "block4_conv4 (Conv2D)        (None, 28, 28, 512)       2359808   \n",
            "_________________________________________________________________\n",
            "block4_pool (MaxPooling2D)   (None, 14, 14, 512)       0         \n",
            "_________________________________________________________________\n",
            "block5_conv1 (Conv2D)        (None, 14, 14, 512)       2359808   \n",
            "_________________________________________________________________\n",
            "block5_conv2 (Conv2D)        (None, 14, 14, 512)       2359808   \n",
            "_________________________________________________________________\n",
            "block5_conv3 (Conv2D)        (None, 14, 14, 512)       2359808   \n",
            "_________________________________________________________________\n",
            "block5_conv4 (Conv2D)        (None, 14, 14, 512)       2359808   \n",
            "_________________________________________________________________\n",
            "block5_pool (MaxPooling2D)   (None, 7, 7, 512)         0         \n",
            "_________________________________________________________________\n",
            "flatten_2 (Flatten)          (None, 25088)             0         \n",
            "_________________________________________________________________\n",
            "dense_8 (Dense)              (None, 1024)              25691136  \n",
            "_________________________________________________________________\n",
            "dropout_2 (Dropout)          (None, 1024)              0         \n",
            "_________________________________________________________________\n",
            "dense_9 (Dense)              (None, 1)                 1025      \n",
            "=================================================================\n",
            "Total params: 45,716,545\n",
            "Trainable params: 25,692,161\n",
            "Non-trainable params: 20,024,384\n",
            "_________________________________________________________________\n"
          ],
          "name": "stdout"
        }
      ]
    },
    {
      "cell_type": "code",
      "metadata": {
        "id": "SuDQnkCIiHa-"
      },
      "source": [
        "from tensorflow.keras.layers import concatenate\n",
        "\n",
        "#x = concatenate([mlp.output,cnn_model.output])\n",
        "#x = Dense(last_layer2, activation=\"relu\")(x)\n",
        "#predictions = Dense(1, activation=\"linear\")(x)\n",
        "\n",
        "#model_final = tf.keras.models.Model(inputs=[mlp.input, cnn_model.input],outputs=predictions)"
      ],
      "execution_count": 13,
      "outputs": []
    },
    {
      "cell_type": "code",
      "metadata": {
        "id": "JrI5kmsIiJ5a",
        "colab": {
          "base_uri": "https://localhost:8080/"
        },
        "outputId": "52f9c547-90fd-45f6-d881-284ff0d72866"
      },
      "source": [
        "model_final = cnn_model\n",
        "\n",
        "opt = Adam(lr=lr0, decay=2e-3 / 20)\n",
        "model_final.compile(optimizer = opt, loss = \"mean_absolute_percentage_error\")\n",
        "#keras.backend.set_value(model_final.optimizer.learning_rate,0.001)\n",
        "#model_final.fit(x = [X2_train,X_train], y = Y_train, epochs = 10, batch_size = 8)\n",
        "model_final.fit(x = X_train, y = Y_train, epochs = 10, batch_size = 8)\n",
        "\n",
        "\n"
      ],
      "execution_count": 31,
      "outputs": [
        {
          "output_type": "stream",
          "text": [
            "Epoch 1/10\n",
            "18/18 [==============================] - 3s 105ms/step - loss: 720.4263\n",
            "Epoch 2/10\n",
            "18/18 [==============================] - 2s 85ms/step - loss: 25.9095\n",
            "Epoch 3/10\n",
            "18/18 [==============================] - 2s 84ms/step - loss: 19.4944\n",
            "Epoch 4/10\n",
            "18/18 [==============================] - 2s 84ms/step - loss: 31.0962\n",
            "Epoch 5/10\n",
            "18/18 [==============================] - 2s 84ms/step - loss: 16.5935\n",
            "Epoch 6/10\n",
            "18/18 [==============================] - 2s 84ms/step - loss: 19.6778\n",
            "Epoch 7/10\n",
            "18/18 [==============================] - 2s 84ms/step - loss: 27.4326\n",
            "Epoch 8/10\n",
            "18/18 [==============================] - 2s 84ms/step - loss: 18.2067\n",
            "Epoch 9/10\n",
            "18/18 [==============================] - 2s 84ms/step - loss: 16.3091\n",
            "Epoch 10/10\n",
            "18/18 [==============================] - 2s 84ms/step - loss: 17.9045\n"
          ],
          "name": "stdout"
        },
        {
          "output_type": "execute_result",
          "data": {
            "text/plain": [
              "<tensorflow.python.keras.callbacks.History at 0x7fd3a6166410>"
            ]
          },
          "metadata": {
            "tags": []
          },
          "execution_count": 31
        }
      ]
    },
    {
      "cell_type": "code",
      "metadata": {
        "id": "Rhbv97J8XJ7S"
      },
      "source": [
        "for layer in range(len(model_final.layers)):\n",
        "   if layer < (len(model_final.layers) - trainable_layers):\n",
        "    model_final.layers[layer].trainable = False\n",
        "   else:\n",
        "    model_final.layers[layer].trainable = True"
      ],
      "execution_count": 32,
      "outputs": []
    },
    {
      "cell_type": "code",
      "metadata": {
        "id": "0b9Q4Xt9p1Zj",
        "colab": {
          "base_uri": "https://localhost:8080/"
        },
        "outputId": "ee1ffeea-0a7e-44a0-e172-0a0643f71ac8"
      },
      "source": [
        "#preds = model_final.evaluate(x = [X2_test,X_test], y = Y_test)\n",
        "preds = model_final.evaluate(x = X_test, y = Y_test)\n",
        "### END CODE HERE ###\n",
        "print()\n",
        "print (\"Loss = \" + str(preds))"
      ],
      "execution_count": 33,
      "outputs": [
        {
          "output_type": "stream",
          "text": [
            "2/2 [==============================] - 0s 18ms/step - loss: 11.2389\n",
            "\n",
            "Loss = 11.23891544342041\n"
          ],
          "name": "stdout"
        }
      ]
    },
    {
      "cell_type": "code",
      "metadata": {
        "id": "8p-sHvVyrrOk",
        "colab": {
          "base_uri": "https://localhost:8080/"
        },
        "outputId": "9bf227b2-fd33-454d-d09c-1613606334f6"
      },
      "source": [
        "#model_final.fit(x = [X2_train, X_train], y = Y_train, epochs = 10, batch_size = 16)\n",
        "model_final.fit(x = X_train, y = Y_train, epochs = 10, batch_size = 16)\n",
        "#keras.backend.set_value(model_final.optimizer.learning_rate,0.00005)\n",
        "#model_final.fit(x = X_train, y = Y_train, epochs = 10, batch_size = 16)\n",
        "#keras.backend.set_value(model_final.optimizer.learning_rate,0.00001)\n",
        "#model_final.fit(x = X_train, y = Y_train, epochs = 10, batch_size = 16)"
      ],
      "execution_count": 34,
      "outputs": [
        {
          "output_type": "stream",
          "text": [
            "Epoch 1/10\n",
            "9/9 [==============================] - 2s 196ms/step - loss: 22.4491\n",
            "Epoch 2/10\n",
            "9/9 [==============================] - 1s 129ms/step - loss: 18.7588\n",
            "Epoch 3/10\n",
            "9/9 [==============================] - 1s 128ms/step - loss: 12.3617\n",
            "Epoch 4/10\n",
            "9/9 [==============================] - 1s 128ms/step - loss: 12.0290\n",
            "Epoch 5/10\n",
            "9/9 [==============================] - 1s 128ms/step - loss: 14.6330\n",
            "Epoch 6/10\n",
            "9/9 [==============================] - 1s 128ms/step - loss: 11.5716\n",
            "Epoch 7/10\n",
            "9/9 [==============================] - 1s 128ms/step - loss: 14.0517\n",
            "Epoch 8/10\n",
            "9/9 [==============================] - 1s 130ms/step - loss: 12.4260\n",
            "Epoch 9/10\n",
            "9/9 [==============================] - 1s 129ms/step - loss: 15.6541\n",
            "Epoch 10/10\n",
            "9/9 [==============================] - 1s 128ms/step - loss: 14.3438\n"
          ],
          "name": "stdout"
        },
        {
          "output_type": "execute_result",
          "data": {
            "text/plain": [
              "<tensorflow.python.keras.callbacks.History at 0x7fd4b0cf0dd0>"
            ]
          },
          "metadata": {
            "tags": []
          },
          "execution_count": 34
        }
      ]
    },
    {
      "cell_type": "code",
      "metadata": {
        "id": "o1xWw1w8F2QS"
      },
      "source": [
        "#Y_pred = model_final.predict([X2_test,X_test])\n",
        "Y_pred = model_final.predict(X_test)\n",
        "#print(Y_pred)"
      ],
      "execution_count": 43,
      "outputs": []
    },
    {
      "cell_type": "code",
      "metadata": {
        "id": "gBR4mQalpk48",
        "colab": {
          "base_uri": "https://localhost:8080/"
        },
        "outputId": "578ce4c8-0282-4803-c11c-dd93d63d3634"
      },
      "source": [
        "from sklearn.linear_model import LinearRegression\n",
        "model = LinearRegression()\n",
        "model.fit(Y_pred, Y_test)\n",
        "r_sq = model.score(Y_pred, Y_test)\n",
        "print('coefficient of determination:', r_sq)"
      ],
      "execution_count": 36,
      "outputs": [
        {
          "output_type": "stream",
          "text": [
            "coefficient of determination: 0.9351311236339088\n"
          ],
          "name": "stdout"
        }
      ]
    },
    {
      "cell_type": "code",
      "metadata": {
        "id": "b5pwJoEQeZG7",
        "colab": {
          "base_uri": "https://localhost:8080/"
        },
        "outputId": "119e6397-ee97-46dc-af7e-04ac91f81444"
      },
      "source": [
        "#preds = model_final.evaluate(x = [X2_test, X_test], y = Y_test)\n",
        "preds = model_final.evaluate(x = X_test, y = Y_test)\n",
        "\n",
        "print()\n",
        "print (\"Loss = \" + str(preds))"
      ],
      "execution_count": 37,
      "outputs": [
        {
          "output_type": "stream",
          "text": [
            "2/2 [==============================] - 0s 21ms/step - loss: 16.8091\n",
            "\n",
            "Loss = 16.80908203125\n"
          ],
          "name": "stdout"
        }
      ]
    },
    {
      "cell_type": "code",
      "metadata": {
        "id": "pFMCRoMKeiRJ",
        "colab": {
          "base_uri": "https://localhost:8080/"
        },
        "outputId": "fd9fcbc7-69e1-48cb-bd0d-6439b08cd469"
      },
      "source": [
        "import scipy\n",
        "\n",
        "print(Y_pred.shape)\n",
        "r_sq,p = scipy.stats.pearsonr(Y_pred.reshape((Y_pred.shape[0],)), Y_test.reshape((Y_test.shape[0],)))\n",
        "print('Pearson\\'s coefficient of determination:', r_sq)"
      ],
      "execution_count": 44,
      "outputs": [
        {
          "output_type": "stream",
          "text": [
            "(36, 1)\n",
            "Pearson's coefficient of determination: 0.9664915873591162\n"
          ],
          "name": "stdout"
        }
      ]
    },
    {
      "cell_type": "code",
      "metadata": {
        "id": "BIDvCneyDgO9",
        "colab": {
          "base_uri": "https://localhost:8080/"
        },
        "outputId": "29366e0d-05f4-4eac-e15b-c868c00db310"
      },
      "source": [
        "#keras.backend.set_value(model_final.optimizer.learning_rate,0.00003)\n",
        "#model_final.fit(x = [X2_train, X_train], y = Y_train, epochs = 10, batch_size = 16)\n",
        "model_final.fit(x = X_train, y = Y_train, epochs = 10, batch_size = 16)"
      ],
      "execution_count": 41,
      "outputs": [
        {
          "output_type": "stream",
          "text": [
            "Epoch 1/10\n",
            "9/9 [==============================] - 1s 128ms/step - loss: 12.2716\n",
            "Epoch 2/10\n",
            "9/9 [==============================] - 1s 130ms/step - loss: 11.9642\n",
            "Epoch 3/10\n",
            "9/9 [==============================] - 1s 130ms/step - loss: 11.9507\n",
            "Epoch 4/10\n",
            "9/9 [==============================] - 1s 130ms/step - loss: 13.0050\n",
            "Epoch 5/10\n",
            "9/9 [==============================] - 1s 129ms/step - loss: 11.2348\n",
            "Epoch 6/10\n",
            "9/9 [==============================] - 1s 129ms/step - loss: 11.0890\n",
            "Epoch 7/10\n",
            "9/9 [==============================] - 1s 129ms/step - loss: 16.1014\n",
            "Epoch 8/10\n",
            "9/9 [==============================] - 1s 129ms/step - loss: 13.4749\n",
            "Epoch 9/10\n",
            "9/9 [==============================] - 1s 130ms/step - loss: 16.5385\n",
            "Epoch 10/10\n",
            "9/9 [==============================] - 1s 128ms/step - loss: 10.4329\n"
          ],
          "name": "stdout"
        },
        {
          "output_type": "execute_result",
          "data": {
            "text/plain": [
              "<tensorflow.python.keras.callbacks.History at 0x7fd256e8fe10>"
            ]
          },
          "metadata": {
            "tags": []
          },
          "execution_count": 41
        }
      ]
    },
    {
      "cell_type": "code",
      "metadata": {
        "id": "HPXk-QvrDkBK",
        "colab": {
          "base_uri": "https://localhost:8080/"
        },
        "outputId": "d6a6ddd6-e016-428a-ba39-2a852dc20bb6"
      },
      "source": [
        "#preds = model_final.evaluate(x = [X2_test, X_test], y = Y_test)\n",
        "preds = model_final.evaluate(x = X_test, y = Y_test)\n",
        "\n",
        "print()\n",
        "print (\"Loss = \" + str(preds))"
      ],
      "execution_count": 42,
      "outputs": [
        {
          "output_type": "stream",
          "text": [
            "2/2 [==============================] - 0s 24ms/step - loss: 10.6829\n",
            "\n",
            "Loss = 10.68287467956543\n"
          ],
          "name": "stdout"
        }
      ]
    },
    {
      "cell_type": "code",
      "metadata": {
        "id": "9Y-avwU0p0Ti"
      },
      "source": [
        ""
      ],
      "execution_count": null,
      "outputs": []
    }
  ]
}